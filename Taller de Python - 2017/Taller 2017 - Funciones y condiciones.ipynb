{
 "cells": [
  {
   "cell_type": "markdown",
   "metadata": {},
   "source": [
    "<img src=\"FondoACET.jpg\",width=2000, height=260>"
   ]
  },
  {
   "cell_type": "markdown",
   "metadata": {},
   "source": [
    "# Taller de Python 2017\n",
    "## Funciones, condiciones y bucles\n",
    "\n",
    "**Ejercicio 1**\n",
    "\n",
    "Defina una función que tome como argumentos dos valores numéricos y devuelva el mayor de ellos."
   ]
  },
  {
   "cell_type": "code",
   "execution_count": 16,
   "metadata": {
    "collapsed": true,
    "hideCode": true,
    "hideOutput": false,
    "hidePrompt": false
   },
   "outputs": [],
   "source": [
    "def max_2(i, j):\n",
    "    if i > j:\n",
    "        print('El mayor es ', i)\n",
    "    elif i < j:\n",
    "        print('El mayor es ', j)\n",
    "    else:\n",
    "        print('Has ingresado dos números iguales')"
   ]
  },
  {
   "cell_type": "markdown",
   "metadata": {},
   "source": [
    "**Ejercicio 2**\n",
    "\n",
    "Defina una función que tome como argumentos tres valores numéricos y devuelva el mayor de ellos.\n",
    "\n",
    "*OBSERVACIÓN*\n",
    "\n",
    "Para trabajar con este ejercicio puede ser necesario trabajar con los operadores lógicos:\n",
    "\n",
    "- **and** $\\rightarrow$ si se quiere que se cumplan dos condiciones.\n",
    "- **or** $\\rightarrow$ si se busca que se cumpla al menos una de dos condiciones.\n"
   ]
  },
  {
   "cell_type": "code",
   "execution_count": 2,
   "metadata": {
    "collapsed": true,
    "hideCode": true
   },
   "outputs": [],
   "source": [
    "def max_3(i, j, k):\n",
    "    if i > j > k:\n",
    "        print('El mayor es ', i)\n",
    "    elif i < j < k:\n",
    "        print('El mayor es ', k)\n",
    "    elif i < j and j > k:\n",
    "        print('El mayor es ', j)\n",
    "    else:\n",
    "        print('Has ingresado al menos dos números iguales')"
   ]
  },
  {
   "cell_type": "code",
   "execution_count": 3,
   "metadata": {
    "collapsed": true
   },
   "outputs": [],
   "source": [
    "def maxx_3(i, j, k):\n",
    "    if i > j > k:\n",
    "        print('El mayor es ', i)\n",
    "    elif i < j < k:\n",
    "        print('El mayor es ', k)\n",
    "    elif i < j and j > k:\n",
    "        print('El mayor es ', j)\n",
    "    elif i == j and i > k:\n",
    "        print('El mayor es ', i)\n",
    "    elif i == j and i < k:\n",
    "        print('El mayor es ', k)\n",
    "    elif i == k and i > j:\n",
    "        print('El mayor es ', i)\n",
    "    elif i == k and i < j:\n",
    "        print('El mayor es ', )\n",
    "    elif k == j and i > k:\n",
    "        print('El mayor es ', i)\n",
    "    elif k == j and i < k:\n",
    "        print('El mayor es ', k)\n",
    "    else:\n",
    "        print('Has ingresado tres números iguales')"
   ]
  },
  {
   "cell_type": "markdown",
   "metadata": {},
   "source": [
    "**Ejercicio 3**\n",
    "\n",
    "Defina una función que tome un carácter y devuelva True si es una vocal, y que de lo contrario devuelva False.\n",
    "\n",
    "*OBSERVACIÓN*\n",
    "\n",
    "En python, A y a son cosas distintas."
   ]
  },
  {
   "cell_type": "code",
   "execution_count": 13,
   "metadata": {
    "collapsed": true
   },
   "outputs": [],
   "source": [
    "def es_vocal(x):\n",
    "    if x == \"a\" or x == \"e\" or x == \"i\" or x == \"o\" or x == \"u\":\n",
    "        return True\n",
    "    elif x == \"A\" or x == \"E\" or x == \"I\" or x == \"O\" or x == \"U\":\n",
    "        return True\n",
    "    else:\n",
    "        return False"
   ]
  },
  {
   "cell_type": "markdown",
   "metadata": {},
   "source": [
    "**Ejercicio 4**\n",
    "\n",
    "Defina una función que devuelva la longitud de su argumento, sea este una lista o cadena de caracteres.\n",
    "\n",
    "*OBSERVACIÓN*\n",
    "\n",
    "Es necesario definir un bucle con **for** y definir una variable a la que se le sume una unidad por cada elemento de la lista o string. Para esto usar **+=**"
   ]
  },
  {
   "cell_type": "code",
   "execution_count": 14,
   "metadata": {
    "collapsed": true
   },
   "outputs": [],
   "source": [
    "def long(lista):\n",
    "    cont = 0\n",
    "    for i in lista:\n",
    "        cont += 1\n",
    "    return cont"
   ]
  },
  {
   "cell_type": "markdown",
   "metadata": {},
   "source": [
    "**Ejercicio 5**\n",
    "\n",
    "Defina una función que devuelva el mayor valor de una lista de números."
   ]
  },
  {
   "cell_type": "code",
   "execution_count": null,
   "metadata": {
    "collapsed": true
   },
   "outputs": [],
   "source": [
    " def max_in_list(lista):\n",
    "    inicio = 0\n",
    "    for i in lista:\n",
    "        if i > inicio:\n",
    "            inicio = i\n",
    "    return inicio"
   ]
  }
 ],
 "metadata": {
  "celltoolbar": "Raw Cell Format",
  "kernelspec": {
   "display_name": "Python 3",
   "language": "python",
   "name": "python3"
  },
  "language_info": {
   "codemirror_mode": {
    "name": "ipython",
    "version": 3
   },
   "file_extension": ".py",
   "mimetype": "text/x-python",
   "name": "python",
   "nbconvert_exporter": "python",
   "pygments_lexer": "ipython3",
   "version": "3.6.0"
  }
 },
 "nbformat": 4,
 "nbformat_minor": 2
}
