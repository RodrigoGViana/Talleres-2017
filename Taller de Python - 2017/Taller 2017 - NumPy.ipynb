{
 "cells": [
  {
   "cell_type": "markdown",
   "metadata": {
    "collapsed": false
   },
   "source": [
    "<img src=\"FondoACET.jpg\",width=2000, height=260>"
   ]
  },
  {
   "cell_type": "markdown",
   "metadata": {},
   "source": [
    "# Taller de Python 2017\n",
    "## Funciones, condiciones y NumPy\n",
    "\n",
    "**A partir de los siguientes datos calcular:**\n",
    "* El número de Reynolds.\n",
    "* La rugosidad relativa.\n",
    "* El factor de fricción. \n",
    "* La pérdida de carga en metros.\n",
    "\n",
    "|   Descripción    | Valor | Unidad |\n",
    "|:----------------:|:-----:|:------:|\n",
    "| Diámetro nominal | 3     |   $pulg$ |\n",
    "| Cédula           | 40    |          |\n",
    "| Rugosidad abs.   | 0.05  |   $mm$   |\n",
    "| Longitud         | 9.60  |      $m$ |\n",
    "| Caudal másico    | 1     |   $\\frac{kg}{s}$   |\n",
    "| Fluido           | Ác. sulfúrico  94% |       |\n",
    "| Temperatura      | 52.78 |     $°C$     |\n",
    "| Densidad         | 1801.6 | $\\frac{kg}{m^3}$  |\n",
    "| Viscosidad       | 0.01  | $Pa \\cdot s$ |\n"
   ]
  },
  {
   "cell_type": "markdown",
   "metadata": {},
   "source": [
    "**Las ecuaciones a utilizar son:**\n",
    "\n",
    "\\begin{equation}\n",
    "N_R = \\dfrac{vD\\rho}{\\mu}\\\\\n",
    "\\tag*{Número de Reynolds}\n",
    "\\end{equation}\n",
    "\n",
    "\\begin{equation}\n",
    "f = 64/N_{R}\\\\\n",
    "\\tag*{Factor para régimen laminar}\n",
    "\\end{equation}\n",
    "\n",
    "\\begin{equation}\n",
    "f = \\dfrac{0.25}{\n",
    "\t\t\\left[log\\left(\\dfrac{1}{3.7 \\cdot (D/\\epsilon)}+\n",
    "\t\t\\dfrac{5.74}{N^{0.9}_{R}}\\right)\\right]^{2}}\\\\\n",
    "\\tag*{Factor para régimen turbulento}\n",
    "\\end{equation}\n",
    "\n",
    "\\begin{equation}\n",
    "h_f = f \\dfrac{L}{D} \\dfrac{v^2}{2g}\\\\\n",
    "\\tag*{Ecuación de Darcy}\n",
    "\\end{equation}\n"
   ]
  },
  {
   "cell_type": "markdown",
   "metadata": {},
   "source": [
    "## Diagrama de flujo\n",
    "\n",
    "<img src=\"Flowchart.png\",width=2000, height=260>"
   ]
  },
  {
   "cell_type": "code",
   "execution_count": 1,
   "metadata": {
    "collapsed": true
   },
   "outputs": [],
   "source": [
    "# Sólo es necesario importar numpy como np para llevar a cabo los cálculos\n",
    "import numpy as np"
   ]
  },
  {
   "cell_type": "code",
   "execution_count": 2,
   "metadata": {
    "collapsed": false
   },
   "outputs": [],
   "source": [
    "'''\n",
    "BLOQUE DE ECUACIONES\n",
    "\n",
    "Conviene definir todas aquellas funciones necesarias para realizar las tareas.\n",
    "'''\n",
    "\n",
    "# Número de Reynolds\n",
    "\n",
    "def reynolds(v, D, rho, mu):\n",
    "    Re_out = v*D*rho / mu\n",
    "    return Re_out\n",
    "\n",
    "\n",
    "# Rugosidad relativa\n",
    "\n",
    "def Rugosidad_relativa(D, Rugosidad_absoluta):\n",
    "    r_relativa = D/Rugosidad_absoluta\n",
    "    return r_relativa\n",
    "\n",
    "\n",
    "# Factor de fricción\n",
    "\n",
    "def f(Re, r_relativa):\n",
    "    if Re < 2000:\n",
    "        f_out = 64/Re\n",
    "    elif 2000 < Re < 4000:\n",
    "        raise ValuError('No se puede predecir el comportamiento del fluido')\n",
    "    else:\n",
    "        f_out = 0.25/(np.log10((1/(3.7*r_relativa)) + 5.74/(Re**0.9)))**2\n",
    "    return f_out\n",
    "\n",
    "\n",
    "# Pérdida de carga debida a la fricción.\n",
    "\n",
    "def hL(factor, D, L, v):\n",
    "    g = 9.81 # Ejemplo de hardcoding\n",
    "    hL_out = factor * (L/D) * (v**2) / (2*g)\n",
    "    return hL_out"
   ]
  },
  {
   "cell_type": "code",
   "execution_count": 3,
   "metadata": {
    "collapsed": false,
    "scrolled": true
   },
   "outputs": [
    {
     "name": "stdout",
     "output_type": "stream",
     "text": [
      "¿Es la velocidad un dato? Sí o No: no\n",
      "¿Es el caudal un dato? Sí o No: sí\n",
      "¿Cuál? volumétrico o másico: másico\n",
      "Caudal másico kg/s: 1\n",
      "Densidad en kg/m3: 1801.6\n",
      "Viscosidad dinámica en Pa.s: 0.01\n",
      "Diámetro de la tubería en m: 0.07793\n",
      "El número de Reynolds es:  1634.6533431521511\n",
      "Rugosidad absoluta: 0.05e-3\n",
      "La rugosidad relativa es:  1558.6\n",
      "El factor de fricción es:  0.039152031999999996\n"
     ]
    }
   ],
   "source": [
    "'''\n",
    "BLOQUE DE VARIABLES\n",
    "\n",
    "Para realizar los cálculos es necesario asignar valores a las varibales, en este caso podemos utilizar la función input para\n",
    "escribir un programa que nos sea útil para distintos casos sin la necesidad de modificar el código. \n",
    "'''\n",
    "\n",
    "Datos_1 = str(input('¿Es la velocidad un dato? Sí o No: ')) \n",
    "\n",
    "Re = None\n",
    "\n",
    "if Datos_1.lower() == 'sí':\n",
    "    v = float(input('Velocidad media del fluido en m/s: '))\n",
    "    rho = float(input('Densidad en kg/m3: '))\n",
    "    mu = float(input('Visocsidad dinámica en Pa.s: '))\n",
    "    D = float(input('Diámetro de la tubería en m: '))\n",
    "    Re = reynolds(v, D, rho, mu)\n",
    "\n",
    "elif Datos_1.lower() == 'no':\n",
    "    Datos_2 = str(input('¿Es el caudal un dato? Sí o No: '))\n",
    "    if Datos_2.lower() == 'sí':\n",
    "        Datos_3 = str(input('¿Cuál? volumétrico o másico: '))\n",
    "        if Datos_3.lower() == 'volumétrico':\n",
    "            Q = float(input('Caudal volumétrico m3/s: '))\n",
    "            rho = float(input('Densidad en kg/m3: '))\n",
    "            mu = float(input('Viscosidad dinámica en Pa.s: '))\n",
    "            D = float(input('Diámetro de la tubería en m: '))\n",
    "            As = 3.14 * (D**2) / 4\n",
    "            v = Q / As\n",
    "            Re = reynolds(v, D, rho, mu)\n",
    "        else:\n",
    "            Q = float(input('Caudal másico kg/s: '))\n",
    "            rho = float(input('Densidad en kg/m3: '))\n",
    "            mu = float(input('Viscosidad dinámica en Pa.s: '))\n",
    "            D = float(input('Diámetro de la tubería en m: '))\n",
    "            As = 3.14 * (D**2) / 4\n",
    "            v = Q / (As*rho)\n",
    "            Re = reynolds(v, D, rho, mu)\n",
    "    else:\n",
    "        raise ValueError('Estamos en problemas, te falta un dato')\n",
    "\n",
    "print('El número de Reynolds es: ', Re)\n",
    "\n",
    "# Calcular el factor de fricción requiere conocer el número de Reynolds y\n",
    "# la rugosidad relativa para el material de la tubería.\n",
    "# La rugosidad relativa se expresa como diámetro/epsilon \n",
    "# (Notación del libro de Mott).\n",
    "\n",
    "Rugosidad_absoluta = float(input('Rugosidad absoluta: '))\n",
    "Rugosidad_rel = Rugosidad_relativa(D, Rugosidad_absoluta)\n",
    "\n",
    "print('La rugosidad relativa es: ', Rugosidad_rel)\n",
    "\n",
    "factor = f(Re, Rugosidad_rel)\n",
    "print('El factor de fricción es: ', round(factor,5))"
   ]
  },
  {
   "cell_type": "code",
   "execution_count": 4,
   "metadata": {
    "collapsed": false
   },
   "outputs": [
    {
     "name": "stdout",
     "output_type": "stream",
     "text": [
      "Longitud de la tubería en m: 9.60\n",
      "La pérdida de carga expresada en m es:  0.003332323040401417\n"
     ]
    }
   ],
   "source": [
    "'''\n",
    "BLOQUE PARA EL CÁLCULO DE LA PÉRDIDA DE CARGA\n",
    "\n",
    "Todas las variables puestas en juego en la ecuación de Darcy son datos, salvo el factor de fricción calculado en el bloque\n",
    "anterior.\n",
    "'''\n",
    "\n",
    "L = float(input('Longitud de la tubería en m: '))\n",
    "\n",
    "pérdida = hL(factor, D, L, v)\n",
    "print('La pérdida de carga expresada en m es: ', '%.3e'%pérdida)"
   ]
  },
  {
   "cell_type": "code",
   "execution_count": null,
   "metadata": {
    "collapsed": true
   },
   "outputs": [],
   "source": []
  }
 ],
 "metadata": {
  "anaconda-cloud": {},
  "kernelspec": {
   "display_name": "Python 3",
   "language": "python",
   "name": "python3"
  },
  "language_info": {
   "codemirror_mode": {
    "name": "ipython",
    "version": 3
   },
   "file_extension": ".py",
   "mimetype": "text/x-python",
   "name": "python",
   "nbconvert_exporter": "python",
   "pygments_lexer": "ipython3",
   "version": "3.6.0"
  }
 },
 "nbformat": 4,
 "nbformat_minor": 0
}
